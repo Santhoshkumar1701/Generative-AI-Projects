{
 "cells": [
  {
   "cell_type": "code",
   "execution_count": 1,
   "id": "669664a8",
   "metadata": {},
   "outputs": [],
   "source": [
    "from langchain.embeddings import OpenAIEmbeddings\n",
    "from langchain.text_splitter import RecursiveCharacterTextSplitter\n",
    "from langchain.vectorstores import Chroma\n",
    "from langchain.chat_models import ChatOpenAI\n",
    "from langchain.retrievers.multi_query import MultiQueryRetriever\n",
    "from langchain.document_loaders import TextLoader\n",
    "\n",
    "import os\n",
    "os.environ['OPENAI_API_KEY'] = ''"
   ]
  },
  {
   "cell_type": "code",
   "execution_count": 2,
   "id": "071c212f",
   "metadata": {},
   "outputs": [],
   "source": [
    "# Load the text data\n",
    "loader = TextLoader(\"Royal Enfield.txt\")\n",
    "documents = loader.load()\n",
    "text = \"\\n\".join([doc.page_content for doc in documents])\n",
    "\n"
   ]
  },
  {
   "cell_type": "code",
   "execution_count": 3,
   "id": "255720ff",
   "metadata": {},
   "outputs": [],
   "source": [
    "# Split the text into chunks\n",
    "text_splitter = RecursiveCharacterTextSplitter(chunk_size=1000, chunk_overlap=100)\n",
    "texts = text_splitter.split_text(text)\n",
    "\n"
   ]
  },
  {
   "cell_type": "code",
   "execution_count": 4,
   "id": "11361a33",
   "metadata": {},
   "outputs": [
    {
     "name": "stderr",
     "output_type": "stream",
     "text": [
      "C:\\Users\\klvsp\\anaconda3\\lib\\site-packages\\langchain_core\\_api\\deprecation.py:117: LangChainDeprecationWarning: The class `langchain_community.embeddings.openai.OpenAIEmbeddings` was deprecated in langchain-community 0.0.9 and will be removed in 0.2.0. An updated version of the class exists in the langchain-openai package and should be used instead. To use it run `pip install -U langchain-openai` and import as `from langchain_openai import OpenAIEmbeddings`.\n",
      "  warn_deprecated(\n"
     ]
    }
   ],
   "source": [
    "# Create embeddings and store in Chroma vector store\n",
    "embeddings = OpenAIEmbeddings()\n",
    "db = Chroma.from_texts(texts, embeddings)\n",
    "\n"
   ]
  },
  {
   "cell_type": "code",
   "execution_count": 5,
   "id": "2fce0bdc",
   "metadata": {},
   "outputs": [
    {
     "name": "stderr",
     "output_type": "stream",
     "text": [
      "C:\\Users\\klvsp\\anaconda3\\lib\\site-packages\\langchain_core\\_api\\deprecation.py:117: LangChainDeprecationWarning: The class `langchain_community.chat_models.openai.ChatOpenAI` was deprecated in langchain-community 0.0.10 and will be removed in 0.2.0. An updated version of the class exists in the langchain-openai package and should be used instead. To use it run `pip install -U langchain-openai` and import as `from langchain_openai import ChatOpenAI`.\n",
      "  warn_deprecated(\n"
     ]
    }
   ],
   "source": [
    "# Set up the retriever and language model\n",
    "retriever = db.as_retriever()\n",
    "llm = ChatOpenAI(temperature=0)\n",
    "\n"
   ]
  },
  {
   "cell_type": "code",
   "execution_count": 6,
   "id": "d7140395",
   "metadata": {},
   "outputs": [],
   "source": [
    "# Create the multi-query retriever\n",
    "retriever_from_llm = MultiQueryRetriever.from_llm(retriever=retriever, llm=llm)\n",
    "\n"
   ]
  },
  {
   "cell_type": "code",
   "execution_count": 7,
   "id": "89bddc61",
   "metadata": {},
   "outputs": [
    {
     "name": "stdout",
     "output_type": "stream",
     "text": [
      "Number of unique documents retrieved: 4\n",
      "\n",
      "The first Royal Enfield motorcycle was built in 1901 by The Enfield Cycle Company of Redditch, Worcestershire, England, which was responsible for the design and original production of the Royal Enfield Bullet, the longest-lived motorcycle design in history. Licensed from the original English Royal Enfield by the indigenous Indian Madras Motors, the company is now a subsidiary of Eicher Motors, an Indian automaker. The company makes classic-looking motorcycles including the Royal Enfield Bullet, Classic 350, Royal Enfield Thunderbird, Meteor 350, Classic 500, Interceptor 650, Continental and many more. Royal Enfield also makes adventurous and offroading motorcycles like the Royal Enfield Himalayan. Their motorcycles are equipped with single-cylinder and twin-cylinder engines.\n",
      "\n",
      "In the year 1990, Royal Enfield collaborated with the Eicher Group, an automotive company in India, and merged with it in 1994. Apart from bikes, Eicher Group is involved in the production and sales of commercial vehicles and automotive gears. Although Royal Enfield experienced difficulties in the 1990s, and ceased motorcycle production at their Jaipur factory in 2002, by 2013 the company opened a new primary factory in the Chennai suburb of Oragadam on the strength of increased demand for its motorcycles. This was followed in 2017 by the inauguration of another new factory of a similar size to the facility at Oragadam (capacity 600,000 vehicles per year) at Vallam Vadagal. The original factory at Tiruvottiyur became secondary, and continues to produce some limited-run motorcycle models.\n",
      "\n",
      "After the Indian Independence Act 1947 the new government looked for a suitable motorcycle for its army to patrol the country's border. In 1952 the Royal Enfield Bullet was chosen as the most suitable bike for the job. In 1954, the government ordered 800 in units of the 350 cc model. In 1955, the Redditch company partnered with Madras Motors in India to form 'Enfield India' to assemble, under licence, the 350 cc Royal Enfield Bullet motorcycle in Madras (now called Chennai). The tooling was sold to Enfield India so that they could manufacture components. By 1962, all the components were made in India. The Indian Enfield uses the 1960 engine (with metric bearing sizes), Royal Enfield still makes an essentially similar bike in the 350 cc and 500 cc models, along with several different models for different market segments.\n",
      "\n",
      "Royal Enfield is an Indian multinational motorcycle manufacturing company, headquartered in Chennai. The Royal Enfield brand, including its original English heritage, is the oldest global motorcycle brand in continuous production. The company operates manufacturing plants in Chennai in India.\n"
     ]
    }
   ],
   "source": [
    "# Ask a question\n",
    "question = \"When was the first Royal Enfield built?\"\n",
    "unique_docs = retriever_from_llm.get_relevant_documents(query=question)\n",
    "\n",
    "print(f\"Number of unique documents retrieved: {len(unique_docs)}\")\n",
    "for doc in unique_docs:\n",
    "    print(f\"\\n{doc.page_content}\")"
   ]
  },
  {
   "cell_type": "code",
   "execution_count": null,
   "id": "69e0ac72",
   "metadata": {},
   "outputs": [],
   "source": []
  }
 ],
 "metadata": {
  "kernelspec": {
   "display_name": "Python 3 (ipykernel)",
   "language": "python",
   "name": "python3"
  },
  "language_info": {
   "codemirror_mode": {
    "name": "ipython",
    "version": 3
   },
   "file_extension": ".py",
   "mimetype": "text/x-python",
   "name": "python",
   "nbconvert_exporter": "python",
   "pygments_lexer": "ipython3",
   "version": "3.9.16"
  }
 },
 "nbformat": 4,
 "nbformat_minor": 5
}
